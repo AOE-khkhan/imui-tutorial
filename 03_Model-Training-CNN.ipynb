{
 "cells": [
  {
   "cell_type": "code",
   "execution_count": 1,
   "metadata": {},
   "outputs": [
    {
     "name": "stderr",
     "output_type": "stream",
     "text": [
      "/usr/local/lib/python3.6/dist-packages/h5py/__init__.py:36: FutureWarning: Conversion of the second argument of issubdtype from `float` to `np.floating` is deprecated. In future, it will be treated as `np.float64 == np.dtype(float).type`.\n",
      "  from ._conv import register_converters as _register_converters\n",
      "Using TensorFlow backend.\n"
     ]
    },
    {
     "data": {
      "text/plain": [
       "'1.5.0'"
      ]
     },
     "execution_count": 1,
     "metadata": {},
     "output_type": "execute_result"
    }
   ],
   "source": [
    "import tensorflow as tf\n",
    "\n",
    "# Importing matplotlib to plot images.\n",
    "import matplotlib.pyplot as plt\n",
    "import numpy as np\n",
    "%matplotlib inline\n",
    "\n",
    "# Importing SK-learn to calculate precision and recall\n",
    "import sklearn\n",
    "import sklearn.metrics\n",
    "\n",
    "# Used for graph export\n",
    "from tensorflow.python.framework import graph_util\n",
    "from tensorflow.python.framework import graph_io\n",
    "from keras.models import load_model\n",
    "from keras import backend as K\n",
    "\n",
    "tf.__version__"
   ]
  },
  {
   "cell_type": "code",
   "execution_count": 2,
   "metadata": {},
   "outputs": [],
   "source": [
    "# the data, split between train and test sets\n",
    "(x_train, y_train), (x_test, y_test) = tf.keras.datasets.mnist.load_data()"
   ]
  },
  {
   "cell_type": "code",
   "execution_count": 3,
   "metadata": {},
   "outputs": [
    {
     "name": "stdout",
     "output_type": "stream",
     "text": [
      "60000 train samples\n",
      "10000 test samples\n"
     ]
    }
   ],
   "source": [
    "# flatten image data <- NOT FOR CNN\n",
    "#x_train = x_train.reshape(-1, 784)\n",
    "#x_test = x_test.reshape(-1, 784)\n",
    "\n",
    "# For CNNs  ->\n",
    "###   DIFFERENT RESHAPE  ### \n",
    "### We here need the dimensions of the image plus a channel, e.g. for RGB images one have 3 channels ###\n",
    "x_train = x_train.reshape(-1, 28, 28, 1)\n",
    "x_test = x_test.reshape(-1, 28, 28, 1)\n",
    "\n",
    "# convert to float\n",
    "x_train = x_train.astype(np.float32)\n",
    "x_test = x_test.astype(np.float32)\n",
    "\n",
    "# normalize to a scale between 0 and 1\n",
    "x_train /= 255\n",
    "x_test /= 255\n",
    "\n",
    "print(x_train.shape[0], 'train samples')\n",
    "print(x_test.shape[0], 'test samples')\n",
    "\n",
    "# convert class vectors to binary class matrices (one-hot notation)\n",
    "num_classes = 10\n",
    "y_train_one_hot = tf.keras.utils.to_categorical(y_train, num_classes)\n",
    "y_test_one_hot = tf.keras.utils.to_categorical(y_test, num_classes)"
   ]
  },
  {
   "cell_type": "code",
   "execution_count": 4,
   "metadata": {},
   "outputs": [
    {
     "data": {
      "text/plain": [
       "Text(0.5,1,'Label for image 31 is: 0')"
      ]
     },
     "execution_count": 4,
     "metadata": {},
     "output_type": "execute_result"
    },
    {
     "data": {
      "image/png": "[encoded data removed]",
      "text/plain": [
       "<Figure size 432x288 with 1 Axes>"
      ]
     },
     "metadata": {},
     "output_type": "display_data"
    }
   ],
   "source": [
    "i = 31\n",
    "plt.imshow(x_train[i].reshape(28, 28)) #np.sqrt(784) = 28\n",
    "plt.title(\"Label for image %i is: %s\" % (i, np.argmax(y_train[i])))"
   ]
  },
  {
   "cell_type": "markdown",
   "metadata": {},
   "source": [
    "## GPU and CPU settings\n",
    "If GPU is not available, comment out the bottom block."
   ]
  },
  {
   "cell_type": "code",
   "execution_count": 5,
   "metadata": {},
   "outputs": [],
   "source": [
    "# If GPU is not available: \n",
    "# GPU_USE = '/cpu:0'\n",
    "# config = tf.ConfigProto(device_count = {\"GPU\": 0})\n",
    "\n",
    "\n",
    "# If GPU is available: \n",
    "config = tf.ConfigProto()\n",
    "config.log_device_placement = True\n",
    "config.allow_soft_placement = True\n",
    "config.gpu_options.allocator_type = 'BFC'\n",
    "\n",
    "# Limit the maximum memory used\n",
    "config.gpu_options.per_process_gpu_memory_fraction = 0.1\n",
    "\n",
    "# set session config\n",
    "tf.keras.backend.set_session(tf.Session(config=config))"
   ]
  },
  {
   "cell_type": "code",
   "execution_count": 6,
   "metadata": {},
   "outputs": [
    {
     "name": "stdout",
     "output_type": "stream",
     "text": [
      "_________________________________________________________________\n",
      "Layer (type)                 Output Shape              Param #   \n",
      "=================================================================\n",
      "conv2d_1 (Conv2D)            (None, 26, 26, 5)         50        \n",
      "_________________________________________________________________\n",
      "flatten_1 (Flatten)          (None, 3380)              0         \n",
      "_________________________________________________________________\n",
      "dense_1 (Dense)              (None, 10)                33810     \n",
      "=================================================================\n",
      "Total params: 33,860\n",
      "Trainable params: 33,860\n",
      "Non-trainable params: 0\n",
      "_________________________________________________________________\n",
      "WARNING:tensorflow:From /usr/local/lib/python3.6/dist-packages/tensorflow/python/keras/_impl/keras/backend.py:3086: calling reduce_sum (from tensorflow.python.ops.math_ops) with keep_dims is deprecated and will be removed in a future version.\n",
      "Instructions for updating:\n",
      "keep_dims is deprecated, use keepdims instead\n",
      "WARNING:tensorflow:From /usr/local/lib/python3.6/dist-packages/tensorflow/python/keras/_impl/keras/backend.py:1557: calling reduce_mean (from tensorflow.python.ops.math_ops) with keep_dims is deprecated and will be removed in a future version.\n",
      "Instructions for updating:\n",
      "keep_dims is deprecated, use keepdims instead\n",
      "Train on 60000 samples, validate on 10000 samples\n",
      "Epoch 1/10\n",
      "60000/60000 [==============================]60000/60000 [==============================] - 4s 74us/step - loss: 0.4256 - acc: 0.8893 - val_loss: 0.2530 - val_acc: 0.9284\n",
      "\n",
      "Epoch 2/10\n",
      "60000/60000 [==============================]60000/60000 [==============================] - 3s 43us/step - loss: 0.2210 - acc: 0.9368 - val_loss: 0.1785 - val_acc: 0.9538\n",
      "\n",
      "Epoch 3/10\n",
      "60000/60000 [==============================]60000/60000 [==============================] - 3s 44us/step - loss: 0.1500 - acc: 0.9581 - val_loss: 0.1331 - val_acc: 0.9625\n",
      "\n",
      "Epoch 4/10\n",
      "60000/60000 [==============================]60000/60000 [==============================] - 3s 44us/step - loss: 0.1137 - acc: 0.9689 - val_loss: 0.1072 - val_acc: 0.9702\n",
      "\n",
      "Epoch 5/10\n",
      "60000/60000 [==============================]60000/60000 [==============================] - 3s 44us/step - loss: 0.0940 - acc: 0.9736 - val_loss: 0.0935 - val_acc: 0.9724\n",
      "\n",
      "Epoch 6/10\n",
      "60000/60000 [==============================]60000/60000 [==============================] - 3s 44us/step - loss: 0.0816 - acc: 0.9770 - val_loss: 0.0849 - val_acc: 0.9742\n",
      "\n",
      "Epoch 7/10\n",
      "60000/60000 [==============================]60000/60000 [==============================] - 3s 44us/step - loss: 0.0725 - acc: 0.9797 - val_loss: 0.0803 - val_acc: 0.9759\n",
      "\n",
      "Epoch 8/10\n",
      "60000/60000 [==============================]60000/60000 [==============================] - 3s 44us/step - loss: 0.0657 - acc: 0.9812 - val_loss: 0.0748 - val_acc: 0.9763\n",
      "\n",
      "Epoch 9/10\n",
      "60000/60000 [==============================]60000/60000 [==============================] - 3s 44us/step - loss: 0.0606 - acc: 0.9826 - val_loss: 0.0701 - val_acc: 0.9775\n",
      "\n",
      "Epoch 10/10\n",
      "60000/60000 [==============================]60000/60000 [==============================] - 3s 44us/step - loss: 0.0558 - acc: 0.9844 - val_loss: 0.0689 - val_acc: 0.9772\n",
      "\n"
     ]
    }
   ],
   "source": [
    "########## HYPER PARAMETERS\n",
    "batch_size = 128\n",
    "epochs = 10\n",
    "optimizer = tf.keras.optimizers.RMSprop()\n",
    "########## HYPER PARAMETERS\n",
    "\n",
    "########## MODEL ARCHITECTURE\n",
    "model = tf.keras.Sequential()\n",
    "\n",
    "### OLD ARCHITECTURE START\n",
    "#model.add(tf.keras.layers.Dense(5, activation='relu', input_shape=(784,)))\n",
    "### OLD ARCHITECTURE END\n",
    "\n",
    "### NEW CNN ARCHITECTURE\n",
    "model.add(tf.keras.layers.Conv2D(5, kernel_size=(3, 3), activation='relu', input_shape=(28,28,1)))\n",
    "model.add(tf.keras.layers.Flatten())\n",
    "### NEW CNN ARCHITECTURE\n",
    "\n",
    "model.add(tf.keras.layers.Dense(num_classes, activation='softmax'))\n",
    "########## MODEL ARCHITECTURE\n",
    "\n",
    "# Print summary\n",
    "model.summary()\n",
    "\n",
    "# compile model for training\n",
    "model.compile(loss='categorical_crossentropy',\n",
    "              optimizer=optimizer,\n",
    "              metrics=['accuracy'])\n",
    "\n",
    "history = model.fit(x_train, y_train_one_hot,\n",
    "                    batch_size=batch_size,\n",
    "                    epochs=epochs,\n",
    "                    verbose=1,\n",
    "                    validation_data=(x_test, y_test_one_hot))"
   ]
  },
  {
   "cell_type": "markdown",
   "metadata": {},
   "source": [
    "# Plot training and test accuracy"
   ]
  },
  {
   "cell_type": "code",
   "execution_count": 7,
   "metadata": {},
   "outputs": [
    {
     "name": "stdout",
     "output_type": "stream",
     "text": [
      "\n",
      " Summary of the precision, recall, F1 score for each class:\n",
      "             precision    recall  f1-score   support\n",
      "\n",
      "          0       0.98      0.98      0.98       980\n",
      "          1       0.99      1.00      0.99      1135\n",
      "          2       0.97      0.97      0.97      1032\n",
      "          3       0.98      0.98      0.98      1010\n",
      "          4       0.98      0.98      0.98       982\n",
      "          5       0.99      0.97      0.98       892\n",
      "          6       0.98      0.98      0.98       958\n",
      "          7       0.98      0.96      0.97      1028\n",
      "          8       0.96      0.97      0.96       974\n",
      "          9       0.97      0.97      0.97      1009\n",
      "\n",
      "avg / total       0.98      0.98      0.98     10000\n",
      "\n",
      "\n",
      " Confusion matrix: \n",
      "[[ 965    0    1    0    0    1    6    3    4    0]\n",
      " [   0 1130    4    0    0    0    1    0    0    0]\n",
      " [   2    5 1001    2    2    0    1    7    9    3]\n",
      " [   0    0    2  988    0    4    0    4   11    1]\n",
      " [   1    1    2    0  963    0    1    0    3   11]\n",
      " [   2    1    2   11    0  867    5    1    3    0]\n",
      " [   5    2    1    1    5    2  938    0    4    0]\n",
      " [   1    3   13    3    0    0    0  992    5   11]\n",
      " [   5    0    4    2    3    0    2    4  946    8]\n",
      " [   3    5    1    0    6    2    0    5    5  982]]\n"
     ]
    }
   ],
   "source": [
    "# use model for inference to get test accuracy\n",
    "y_test_pred = model.predict(x_test)\n",
    "y_test_pred = np.argmax(y_test_pred, axis=1)\n",
    "\n",
    "print ('\\n Summary of the precision, recall, F1 score for each class:')\n",
    "print (sklearn.metrics.classification_report(y_test, y_test_pred))\n",
    "\n",
    "print ('\\n Confusion matrix: ')\n",
    "print (sklearn.metrics.confusion_matrix(y_test, y_test_pred))"
   ]
  },
  {
   "cell_type": "code",
   "execution_count": 8,
   "metadata": {},
   "outputs": [
    {
     "data": {
      "text/plain": [
       "<matplotlib.legend.Legend at 0x7fe81c071b38>"
      ]
     },
     "execution_count": 8,
     "metadata": {},
     "output_type": "execute_result"
    },
    {
     "data": {
      "image/png": "[encoded data removed]",
      "text/plain": [
       "<Figure size 432x288 with 1 Axes>"
      ]
     },
     "metadata": {},
     "output_type": "display_data"
    }
   ],
   "source": [
    "import matplotlib.pyplot as plt\n",
    "plt.plot(history.history['val_acc'], label=\"Test Accuracy\")\n",
    "plt.plot(history.history['acc'], label=\"Training Accuracy\")\n",
    "plt.legend()"
   ]
  },
  {
   "cell_type": "code",
   "execution_count": 9,
   "metadata": {},
   "outputs": [],
   "source": [
    "# save model\n",
    "model.save(\"myModel.h5\")"
   ]
  }
 ],
 "metadata": {
  "kernelspec": {
   "display_name": "Python 3",
   "language": "python",
   "name": "python3"
  },
  "language_info": {
   "codemirror_mode": {
    "name": "ipython",
    "version": 3
   },
   "file_extension": ".py",
   "mimetype": "text/x-python",
   "name": "python",
   "nbconvert_exporter": "python",
   "pygments_lexer": "ipython3",
   "version": "3.6.3"
  }
 },
 "nbformat": 4,
 "nbformat_minor": 2
}
